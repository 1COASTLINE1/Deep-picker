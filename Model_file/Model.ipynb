{
 "cells": [
  {
   "cell_type": "code",
   "execution_count": 1,
   "metadata": {},
   "outputs": [
    {
     "data": {
      "text/plain": [
       "'!pip install tensorflow\\n!pip install numpy scipy matplotlib scikit-learn\\n!pip install pandas\\n'"
      ]
     },
     "execution_count": 1,
     "metadata": {},
     "output_type": "execute_result"
    }
   ],
   "source": [
    "\"\"\"!pip install tensorflow\n",
    "!pip install numpy scipy matplotlib scikit-learn\n",
    "!pip install pandas\n",
    "\"\"\""
   ]
  },
  {
   "cell_type": "code",
   "execution_count": 1,
   "metadata": {},
   "outputs": [
    {
     "name": "stdout",
     "output_type": "stream",
     "text": [
      "TensorFlow version: 2.6.0\n",
      "Physical devices: [PhysicalDevice(name='/physical_device:CPU:0', device_type='CPU'), PhysicalDevice(name='/physical_device:GPU:0', device_type='GPU'), PhysicalDevice(name='/physical_device:GPU:1', device_type='GPU'), PhysicalDevice(name='/physical_device:GPU:2', device_type='GPU'), PhysicalDevice(name='/physical_device:GPU:3', device_type='GPU')]\n",
      "Num GPUs Available:  4\n"
     ]
    }
   ],
   "source": [
    "import tensorflow as tf\n",
    "\n",
    "# 检查 TensorFlow 版本\n",
    "print(\"TensorFlow version:\", tf.__version__)\n",
    "\n",
    "# 列出所有可用的物理设备\n",
    "print(\"Physical devices:\", tf.config.list_physical_devices())\n",
    "\n",
    "# 检查是否有可用的 GPU\n",
    "gpus = tf.config.list_physical_devices('GPU')\n",
    "if gpus:\n",
    "    print(\"Num GPUs Available: \", len(gpus))\n",
    "else:\n",
    "    print(\"No GPU found. TensorFlow is using CPU.\")"
   ]
  },
  {
   "cell_type": "code",
   "execution_count": 3,
   "metadata": {},
   "outputs": [],
   "source": [
    "## import package\n",
    "import tensorflow as tf\n",
    "from tensorflow import keras\n",
    "from tensorflow.keras import layers, models, optimizers\n",
    "import numpy as np\n",
    "from scipy.optimize import curve_fit\n",
    "import matplotlib.pyplot as plt\n",
    "from sklearn.model_selection import train_test_split\n",
    "from sklearn.preprocessing import StandardScaler\n",
    "from sklearn.metrics import classification_report, mean_squared_error\n",
    "import pandas as pd"
   ]
  },
  {
   "cell_type": "markdown",
   "metadata": {},
   "source": [
    "### Build up basic model\n"
   ]
  },
  {
   "cell_type": "code",
   "execution_count": 4,
   "metadata": {},
   "outputs": [
    {
     "data": {
      "text/plain": [
       "'\\ninput_shape = (100, 1)  # 示例输入形状\\nnum_classes = 3  # 假设有3个类别\\nmodel = create_cnn_model(input_shape, num_classes)\\nmodel.summary()\\n'"
      ]
     },
     "execution_count": 4,
     "metadata": {},
     "output_type": "execute_result"
    }
   ],
   "source": [
    "def create_cnn_model(input_shape, num_classes):\n",
    "    model = models.Sequential()\n",
    "\n",
    "    model.add(layers.Input(shape=input_shape))\n",
    "    \n",
    "    # 使用一维卷积层 (Conv1D) 处理一维序列数据\n",
    "    model.add(layers.Conv1D(32, 3, activation='relu', padding='same'))\n",
    "    model.add(layers.Conv1D(32, 3, activation='relu', padding='same'))\n",
    "    model.add(layers.Conv1D(64, 3, activation='relu', padding='same'))\n",
    "    model.add(layers.Conv1D(64, 3, activation='relu', padding='same'))\n",
    "    model.add(layers.MaxPooling1D(2))\n",
    "    \n",
    "    model.add(layers.Conv1D(128, 3, activation='relu', padding='same'))\n",
    "    model.add(layers.Conv1D(128, 3, activation='relu', padding='same'))\n",
    "    model.add(layers.MaxPooling1D(2))\n",
    "    \n",
    "    model.add(layers.Conv1D(256, 3, activation='relu', padding='same'))\n",
    "    model.add(layers.Conv1D(256, 3, activation='relu', padding='same'))\n",
    "    model.add(layers.MaxPooling1D(2))\n",
    "    \n",
    "    # 展平层\n",
    "    model.add(layers.Flatten())\n",
    "    \n",
    "    # 全连接层\n",
    "    model.add(layers.Dense(512, activation='relu'))\n",
    "    \n",
    "    # 输出层，假设输出是分类问题\n",
    "    model.add(layers.Dense(input_shape[0] * num_classes, activation='softmax'))\n",
    "    model.add(layers.Reshape((input_shape[0], num_classes)))  # 将输出重塑为 (sequence_length, num_classes)\n",
    "    \n",
    "    return model\n",
    "\n",
    "\"\"\"\n",
    "input_shape = (100, 1)  # 示例输入形状\n",
    "num_classes = 3  # 假设有3个类别\n",
    "model = create_cnn_model(input_shape, num_classes)\n",
    "model.summary()\n",
    "\"\"\""
   ]
  },
  {
   "cell_type": "markdown",
   "metadata": {},
   "source": [
    "## Train the model"
   ]
  },
  {
   "cell_type": "code",
   "execution_count": 5,
   "metadata": {},
   "outputs": [],
   "source": [
    "def compile_model(model,learning_rate=0.002):\n",
    "    # 使用Adam优化器，学习率为0.002\n",
    "    optimizer = optimizers.Adam(learning_rate=learning_rate)\n",
    "    # 编译模型，使用交叉熵损失函数和准确率作为指标\n",
    "    model.compile(optimizer=optimizer,\n",
    "                  loss=\"sparse_categorical_crossentropy\",\n",
    "                  metrics=['accuracy'])"
   ]
  },
  {
   "cell_type": "code",
   "execution_count": 6,
   "metadata": {},
   "outputs": [
    {
     "data": {
      "text/plain": [
       "\"\\n# 从 train_data.xlsx 中加载数据\\ntrain_X, train_Y = load_data('train_data.xlsx')\\n\\n# 从 test_data.xlsx 中加载数据（如果有相同的结构）\\ntest_X, test_Y = load_data('test_data.xlsx')\\n\\n# 打印一些数据以进行验证\\nprint(f'Number of training samples: {train_X.shape[0]}')\\nprint(f'First training sample X shape: {train_X[0].shape}')\\nprint(f'First training sample Y shape: {train_Y[0].shape}')\\n\\nprint(f'Number of testing samples: {test_X.shape[0]}')\\nprint(f'First testing sample X shape: {test_X[0].shape}')\\nprint(f'First testing sample Y shape: {test_Y[0].shape}')\\n\\nprint(train_X[0])\\nprint(train_Y[0])\\n\""
      ]
     },
     "execution_count": 6,
     "metadata": {},
     "output_type": "execute_result"
    }
   ],
   "source": [
    "import pandas as pd\n",
    "import numpy as np\n",
    "\n",
    "def load_data(filename):\n",
    "    # 读取 Excel 文件中的所有工作表名称\n",
    "    xls = pd.ExcelFile(filename)\n",
    "    sheet_names = xls.sheet_names\n",
    "    \n",
    "    # 初始化用于存储所有工作表数据的列表\n",
    "    X_data = []\n",
    "    Y_data = []\n",
    "    \n",
    "    # 遍历每个工作表\n",
    "    for sheet_name in sheet_names:\n",
    "        df = pd.read_excel(xls, sheet_name=sheet_name)\n",
    "        \n",
    "        # 提取 X 列和 Y 列的数据\n",
    "        X = df['X'].to_numpy()\n",
    "        Y = df['Y'].to_numpy()\n",
    "        \n",
    "        # 将数据添加到列表中\n",
    "        X_data.append(X)\n",
    "        Y_data.append(Y)\n",
    "    \n",
    "    # 转换为 NumPy 数组\n",
    "    X_data = np.array(X_data)\n",
    "    Y_data = np.array(Y_data)\n",
    "    \n",
    "    return X_data, Y_data\n",
    "\n",
    "\"\"\"\n",
    "# 从 train_data.xlsx 中加载数据\n",
    "train_X, train_Y = load_data('train_data.xlsx')\n",
    "\n",
    "# 从 test_data.xlsx 中加载数据（如果有相同的结构）\n",
    "test_X, test_Y = load_data('test_data.xlsx')\n",
    "\n",
    "# 打印一些数据以进行验证\n",
    "print(f'Number of training samples: {train_X.shape[0]}')\n",
    "print(f'First training sample X shape: {train_X[0].shape}')\n",
    "print(f'First training sample Y shape: {train_Y[0].shape}')\n",
    "\n",
    "print(f'Number of testing samples: {test_X.shape[0]}')\n",
    "print(f'First testing sample X shape: {test_X[0].shape}')\n",
    "print(f'First testing sample Y shape: {test_Y[0].shape}')\n",
    "\n",
    "print(train_X[0])\n",
    "print(train_Y[0])\n",
    "\"\"\""
   ]
  },
  {
   "cell_type": "code",
   "execution_count": 7,
   "metadata": {},
   "outputs": [],
   "source": [
    "from tensorflow.keras.callbacks import EarlyStopping, ModelCheckpoint\n",
    "def train_classification_model(model, X_train, y_train, X_val, y_val, epochs=4000):\n",
    "    # 设置早停和模型检查点回调\n",
    "    batch_size = 32\n",
    "    early_stopping = EarlyStopping(monitor='val_loss', patience=10, restore_best_weights=True)\n",
    "    model_checkpoint = ModelCheckpoint('best_model.h5', save_best_only=True, monitor='val_loss')\n",
    "\n",
    "    # 训练模型，训练4000个epoch\n",
    "    history = model.fit(X_train, y_train, validation_data=(X_val, y_val),epochs=epochs, batch_size = batch_size, callbacks=[early_stopping, model_checkpoint])\n",
    "    return history"
   ]
  },
  {
   "cell_type": "code",
   "execution_count": 8,
   "metadata": {},
   "outputs": [],
   "source": [
    "def evaluate_classification_model(model, X_val, y_val):\n",
    "    # 评估模型在验证集上的性能\n",
    "    test_loss, test_acc = model.evaluate(X_val, y_val)\n",
    "    print(f'Test accuracy: {test_acc}')\n",
    "    \n",
    "    # 预测验证集\n",
    "    y_pred = model.predict(X_val)\n",
    "    print(f'y_pred shape: {y_pred.shape}')\n",
    "    \n",
    "    # 将预测结果转换为整数标签\n",
    "    y_pred_classes = np.argmax(y_pred, axis=-1)\n",
    "    \n",
    "    \"\"\"\n",
    "    # 打印调试信息\n",
    "    print(\"Debugging Information:\")\n",
    "    print(f'y_val shape: {y_val.shape}, y_val dtype: {y_val.dtype}')\n",
    "    print(f'y_pred_classes shape: {y_pred_classes.shape}, y_pred_classes dtype: {y_pred_classes.dtype}')\n",
    "    \n",
    "    # 检查前10个元素\n",
    "    print(f'y_val (first 10): {y_val[:10]}')\n",
    "    print(f'y_pred_classes (first 10): {y_pred_classes[:10]}')\n",
    "    \"\"\"\n",
    "    \n",
    "    # 打印分类报告\n",
    "    print(classification_report(y_val.flatten(), y_pred_classes.flatten()))\n",
    "\n",
    "    report = classification_report(y_val.flatten(), y_pred_classes.flatten(), output_dict=True)\n",
    "\n",
    "    # 转换为 DataFrame\n",
    "    df = pd.DataFrame(report).transpose()\n",
    "\n",
    "    # 写入 CSV 文件\n",
    "    df.to_csv('classification_report.csv')"
   ]
  },
  {
   "cell_type": "code",
   "execution_count": 9,
   "metadata": {},
   "outputs": [
    {
     "data": {
      "text/plain": [
       "\"\\n# 加载并可视化数据\\nX, y = load_data('train_data.xlsx')\\nvisualize_data(X, y)\\n\""
      ]
     },
     "execution_count": 9,
     "metadata": {},
     "output_type": "execute_result"
    }
   ],
   "source": [
    "def visualize_data(X, y, num_samples=100):\n",
    "    for i in range(num_samples):\n",
    "        plt.plot(X[i], y[i])\n",
    "        plt.title(f\"Sample {i+1}\")\n",
    "        plt.xlabel(\"X\")\n",
    "        plt.ylabel(\"Y\")\n",
    "        plt.show()\n",
    "\n",
    "\"\"\"\n",
    "# 加载并可视化数据\n",
    "X, y = load_data('train_data.xlsx')\n",
    "visualize_data(X, y)\n",
    "\"\"\""
   ]
  },
  {
   "cell_type": "code",
   "execution_count": 10,
   "metadata": {},
   "outputs": [
    {
     "name": "stdout",
     "output_type": "stream",
     "text": [
      "Model: \"sequential\"\n",
      "_________________________________________________________________\n",
      " Layer (type)                Output Shape              Param #   \n",
      "=================================================================\n",
      " conv1d (Conv1D)             (None, 100, 32)           128       \n",
      "                                                                 \n",
      " conv1d_1 (Conv1D)           (None, 100, 32)           3104      \n",
      "                                                                 \n",
      " conv1d_2 (Conv1D)           (None, 100, 64)           6208      \n",
      "                                                                 \n",
      " conv1d_3 (Conv1D)           (None, 100, 64)           12352     \n",
      "                                                                 \n",
      " max_pooling1d (MaxPooling1  (None, 50, 64)            0         \n",
      " D)                                                              \n",
      "                                                                 \n",
      " conv1d_4 (Conv1D)           (None, 50, 128)           24704     \n",
      "                                                                 \n",
      " conv1d_5 (Conv1D)           (None, 50, 128)           49280     \n",
      "                                                                 \n",
      " max_pooling1d_1 (MaxPoolin  (None, 25, 128)           0         \n",
      " g1D)                                                            \n",
      "                                                                 \n",
      " conv1d_6 (Conv1D)           (None, 25, 256)           98560     \n",
      "                                                                 \n",
      " conv1d_7 (Conv1D)           (None, 25, 256)           196864    \n",
      "                                                                 \n",
      " max_pooling1d_2 (MaxPoolin  (None, 12, 256)           0         \n",
      " g1D)                                                            \n",
      "                                                                 \n",
      " flatten (Flatten)           (None, 3072)              0         \n",
      "                                                                 \n",
      " dense (Dense)               (None, 512)               1573376   \n",
      "                                                                 \n",
      " dense_1 (Dense)             (None, 300)               153900    \n",
      "                                                                 \n",
      " reshape (Reshape)           (None, 100, 3)            0         \n",
      "                                                                 \n",
      "=================================================================\n",
      "Total params: 2118476 (8.08 MB)\n",
      "Trainable params: 2118476 (8.08 MB)\n",
      "Non-trainable params: 0 (0.00 Byte)\n",
      "_________________________________________________________________\n",
      "Epoch 1/4000\n",
      "26/26 [==============================] - 1s 23ms/step - loss: 0.1371 - accuracy: 0.9397 - val_loss: 0.0549 - val_accuracy: 0.9732\n",
      "Epoch 2/4000\n",
      " 9/26 [=========>....................] - ETA: 0s - loss: 0.0562 - accuracy: 0.9710"
     ]
    },
    {
     "name": "stderr",
     "output_type": "stream",
     "text": [
      "/home/boyang/.conda/envs/boyangenv/lib/python3.8/site-packages/keras/src/engine/training.py:3000: UserWarning: You are saving your model as an HDF5 file via `model.save()`. This file format is considered legacy. We recommend using instead the native Keras format, e.g. `model.save('my_model.keras')`.\n",
      "  saving_api.save_model(\n"
     ]
    },
    {
     "name": "stdout",
     "output_type": "stream",
     "text": [
      "26/26 [==============================] - 0s 16ms/step - loss: 0.0564 - accuracy: 0.9711 - val_loss: 0.0541 - val_accuracy: 0.9714\n",
      "Epoch 3/4000\n",
      "26/26 [==============================] - 0s 14ms/step - loss: 0.0557 - accuracy: 0.9720 - val_loss: 0.0564 - val_accuracy: 0.9708\n",
      "Epoch 4/4000\n",
      "26/26 [==============================] - 0s 13ms/step - loss: 0.0563 - accuracy: 0.9717 - val_loss: 0.0548 - val_accuracy: 0.9708\n",
      "Epoch 5/4000\n",
      "26/26 [==============================] - 0s 13ms/step - loss: 0.0560 - accuracy: 0.9715 - val_loss: 0.0554 - val_accuracy: 0.9732\n",
      "Epoch 6/4000\n",
      "26/26 [==============================] - 0s 15ms/step - loss: 0.0558 - accuracy: 0.9726 - val_loss: 0.0538 - val_accuracy: 0.9732\n",
      "Epoch 7/4000\n",
      "26/26 [==============================] - 0s 13ms/step - loss: 0.0552 - accuracy: 0.9726 - val_loss: 0.0543 - val_accuracy: 0.9732\n",
      "Epoch 8/4000\n",
      "26/26 [==============================] - 0s 13ms/step - loss: 0.0555 - accuracy: 0.9726 - val_loss: 0.0538 - val_accuracy: 0.9732\n",
      "Epoch 9/4000\n",
      "26/26 [==============================] - 0s 13ms/step - loss: 0.0551 - accuracy: 0.9723 - val_loss: 0.0538 - val_accuracy: 0.9732\n",
      "Epoch 10/4000\n",
      "26/26 [==============================] - 0s 13ms/step - loss: 0.0549 - accuracy: 0.9726 - val_loss: 0.0540 - val_accuracy: 0.9732\n",
      "Epoch 11/4000\n",
      "26/26 [==============================] - 0s 13ms/step - loss: 0.0550 - accuracy: 0.9726 - val_loss: 0.0544 - val_accuracy: 0.9732\n",
      "Epoch 12/4000\n",
      "26/26 [==============================] - 0s 13ms/step - loss: 0.0549 - accuracy: 0.9726 - val_loss: 0.0540 - val_accuracy: 0.9732\n",
      "Epoch 13/4000\n",
      "26/26 [==============================] - 0s 13ms/step - loss: 0.0552 - accuracy: 0.9726 - val_loss: 0.0539 - val_accuracy: 0.9732\n",
      "Epoch 14/4000\n",
      "26/26 [==============================] - 0s 13ms/step - loss: 0.0550 - accuracy: 0.9726 - val_loss: 0.0538 - val_accuracy: 0.9732\n",
      "Epoch 15/4000\n",
      "26/26 [==============================] - 0s 15ms/step - loss: 0.0550 - accuracy: 0.9726 - val_loss: 0.0535 - val_accuracy: 0.9732\n",
      "Epoch 16/4000\n",
      "26/26 [==============================] - 0s 13ms/step - loss: 0.0552 - accuracy: 0.9726 - val_loss: 0.0536 - val_accuracy: 0.9732\n",
      "Epoch 17/4000\n",
      "26/26 [==============================] - 0s 15ms/step - loss: 0.0549 - accuracy: 0.9726 - val_loss: 0.0534 - val_accuracy: 0.9732\n",
      "Epoch 18/4000\n",
      "26/26 [==============================] - 0s 13ms/step - loss: 0.0547 - accuracy: 0.9726 - val_loss: 0.0535 - val_accuracy: 0.9732\n",
      "Epoch 19/4000\n",
      "26/26 [==============================] - 0s 15ms/step - loss: 0.0548 - accuracy: 0.9726 - val_loss: 0.0534 - val_accuracy: 0.9732\n",
      "Epoch 20/4000\n",
      "26/26 [==============================] - 0s 13ms/step - loss: 0.0547 - accuracy: 0.9726 - val_loss: 0.0535 - val_accuracy: 0.9732\n",
      "Epoch 21/4000\n",
      "26/26 [==============================] - 0s 13ms/step - loss: 0.0548 - accuracy: 0.9726 - val_loss: 0.0536 - val_accuracy: 0.9732\n",
      "Epoch 22/4000\n",
      "26/26 [==============================] - 0s 13ms/step - loss: 0.0547 - accuracy: 0.9726 - val_loss: 0.0536 - val_accuracy: 0.9732\n",
      "Epoch 23/4000\n",
      "26/26 [==============================] - 0s 13ms/step - loss: 0.0547 - accuracy: 0.9726 - val_loss: 0.0538 - val_accuracy: 0.9732\n",
      "Epoch 24/4000\n",
      "26/26 [==============================] - 0s 13ms/step - loss: 0.0547 - accuracy: 0.9726 - val_loss: 0.0535 - val_accuracy: 0.9732\n",
      "Epoch 25/4000\n",
      "26/26 [==============================] - 0s 13ms/step - loss: 0.0547 - accuracy: 0.9726 - val_loss: 0.0535 - val_accuracy: 0.9732\n",
      "Epoch 26/4000\n",
      "26/26 [==============================] - 0s 13ms/step - loss: 0.0546 - accuracy: 0.9726 - val_loss: 0.0535 - val_accuracy: 0.9732\n",
      "Epoch 27/4000\n",
      "26/26 [==============================] - 0s 13ms/step - loss: 0.0547 - accuracy: 0.9726 - val_loss: 0.0535 - val_accuracy: 0.9732\n",
      "Epoch 28/4000\n",
      "26/26 [==============================] - 0s 13ms/step - loss: 0.0547 - accuracy: 0.9726 - val_loss: 0.0535 - val_accuracy: 0.9732\n",
      "Epoch 29/4000\n",
      "26/26 [==============================] - 0s 14ms/step - loss: 0.0549 - accuracy: 0.9726 - val_loss: 0.0539 - val_accuracy: 0.9732\n",
      "32/32 [==============================] - 0s 5ms/step - loss: 0.0481 - accuracy: 0.9756\n",
      "Test accuracy: 0.9755663871765137\n",
      "32/32 [==============================] - 0s 4ms/step\n",
      "y_pred shape: (1024, 100, 3)\n",
      "              precision    recall  f1-score   support\n",
      "\n",
      "           0       0.99      0.99      0.99     99264\n",
      "           1       0.60      0.59      0.60      3136\n",
      "\n",
      "    accuracy                           0.98    102400\n",
      "   macro avg       0.80      0.79      0.79    102400\n",
      "weighted avg       0.98      0.98      0.98    102400\n",
      "\n"
     ]
    }
   ],
   "source": [
    "# 设置输入形状和类别数量\n",
    "input_shape = (100,1)  # 示例输入形状\n",
    "num_classes = 3  # 假设有3个类别\n",
    "\n",
    "# 创建模型\n",
    "model = create_cnn_model(input_shape, num_classes)\n",
    "model.summary()\n",
    "\n",
    "# 编译模型\n",
    "compile_model(model)\n",
    "\n",
    "# 加载和预处理数据\n",
    "\n",
    "# 从 train_data.xlsx 中加载数据\n",
    "num_classes = 3  \n",
    "X_train, y_train = load_data('train_data.xlsx')\n",
    "X_train, X_val, y_train, y_val = train_test_split(X_train, y_train, test_size=0.2, random_state=42)\n",
    "\n",
    "X_train = np.expand_dims(X_train, axis=-1)\n",
    "X_val = np.expand_dims(X_val, axis=-1)\n",
    "\n",
    "# 从 test_data.xlsx 中加载数据（如果有相同的结构）\n",
    "X_test, y_test = load_data('test_data.xlsx')\n",
    "X_test = np.expand_dims(X_test, axis=-1)\n",
    "# 训练模型\n",
    "history = train_classification_model(model, X_train, y_train, X_val, y_val)\n",
    "\n",
    "evaluate_classification_model(model, X_test, y_test)"
   ]
  },
  {
   "cell_type": "code",
   "execution_count": 11,
   "metadata": {},
   "outputs": [
    {
     "name": "stdout",
     "output_type": "stream",
     "text": [
      "X_train shape: (819, 100)\n",
      "y_train shape: (819, 100)\n",
      "X_val shape: (205, 100)\n",
      "y_val shape: (205, 100)\n"
     ]
    }
   ],
   "source": [
    "print(f'X_train shape: {X_train.shape}')\n",
    "print(f'y_train shape: {y_train.shape}')\n",
    "print(f'X_val shape: {X_val.shape}')\n",
    "print(f'y_val shape: {y_val.shape}')"
   ]
  },
  {
   "cell_type": "code",
   "execution_count": 12,
   "metadata": {},
   "outputs": [
    {
     "name": "stdout",
     "output_type": "stream",
     "text": [
      "y_train shape: (819, 100)\n",
      "y_val shape: (205, 100)\n"
     ]
    }
   ],
   "source": [
    "print(\"y_train shape:\", y_train.shape)\n",
    "print(\"y_val shape:\", y_val.shape)"
   ]
  },
  {
   "cell_type": "code",
   "execution_count": 13,
   "metadata": {},
   "outputs": [
    {
     "name": "stdout",
     "output_type": "stream",
     "text": [
      "Epoch 1/4000\n",
      "26/26 [==============================] - 1s 11ms/step - loss: 0.2779 - accuracy: 0.9021 - val_loss: 0.0570 - val_accuracy: 0.9732\n",
      "Epoch 2/4000\n",
      "26/26 [==============================] - 0s 7ms/step - loss: 0.0560 - accuracy: 0.9726 - val_loss: 0.0552 - val_accuracy: 0.9732\n",
      "Epoch 3/4000\n"
     ]
    },
    {
     "name": "stderr",
     "output_type": "stream",
     "text": [
      "/home/boyang/.conda/envs/boyangenv/lib/python3.8/site-packages/keras/src/engine/training.py:3000: UserWarning: You are saving your model as an HDF5 file via `model.save()`. This file format is considered legacy. We recommend using instead the native Keras format, e.g. `model.save('my_model.keras')`.\n",
      "  saving_api.save_model(\n"
     ]
    },
    {
     "name": "stdout",
     "output_type": "stream",
     "text": [
      "26/26 [==============================] - 0s 7ms/step - loss: 0.0556 - accuracy: 0.9722 - val_loss: 0.0543 - val_accuracy: 0.9714\n",
      "Epoch 4/4000\n",
      "26/26 [==============================] - 0s 6ms/step - loss: 0.0556 - accuracy: 0.9720 - val_loss: 0.0541 - val_accuracy: 0.9732\n",
      "Epoch 5/4000\n",
      "26/26 [==============================] - 0s 6ms/step - loss: 0.0553 - accuracy: 0.9720 - val_loss: 0.0541 - val_accuracy: 0.9732\n",
      "Epoch 6/4000\n",
      "26/26 [==============================] - 0s 6ms/step - loss: 0.0556 - accuracy: 0.9722 - val_loss: 0.0554 - val_accuracy: 0.9732\n",
      "Epoch 7/4000\n",
      "26/26 [==============================] - 0s 6ms/step - loss: 0.0559 - accuracy: 0.9714 - val_loss: 0.0546 - val_accuracy: 0.9732\n",
      "Epoch 8/4000\n",
      "26/26 [==============================] - 0s 5ms/step - loss: 0.0554 - accuracy: 0.9723 - val_loss: 0.0543 - val_accuracy: 0.9732\n",
      "Epoch 9/4000\n",
      "26/26 [==============================] - 0s 6ms/step - loss: 0.0553 - accuracy: 0.9725 - val_loss: 0.0540 - val_accuracy: 0.9732\n",
      "Epoch 10/4000\n",
      "26/26 [==============================] - 0s 6ms/step - loss: 0.0551 - accuracy: 0.9726 - val_loss: 0.0537 - val_accuracy: 0.9732\n",
      "Epoch 11/4000\n",
      "26/26 [==============================] - 0s 5ms/step - loss: 0.0552 - accuracy: 0.9722 - val_loss: 0.0542 - val_accuracy: 0.9732\n",
      "Epoch 12/4000\n",
      "26/26 [==============================] - 0s 6ms/step - loss: 0.0552 - accuracy: 0.9726 - val_loss: 0.0535 - val_accuracy: 0.9732\n",
      "Epoch 13/4000\n",
      "26/26 [==============================] - 0s 6ms/step - loss: 0.0550 - accuracy: 0.9724 - val_loss: 0.0536 - val_accuracy: 0.9732\n",
      "Epoch 14/4000\n",
      "26/26 [==============================] - 0s 5ms/step - loss: 0.0552 - accuracy: 0.9725 - val_loss: 0.0540 - val_accuracy: 0.9732\n",
      "Epoch 15/4000\n",
      "26/26 [==============================] - 0s 5ms/step - loss: 0.0549 - accuracy: 0.9726 - val_loss: 0.0542 - val_accuracy: 0.9732\n",
      "Epoch 16/4000\n",
      "26/26 [==============================] - 0s 6ms/step - loss: 0.0547 - accuracy: 0.9726 - val_loss: 0.0536 - val_accuracy: 0.9732\n",
      "Epoch 17/4000\n",
      "26/26 [==============================] - 0s 6ms/step - loss: 0.0548 - accuracy: 0.9726 - val_loss: 0.0535 - val_accuracy: 0.9732\n",
      "Epoch 18/4000\n",
      "26/26 [==============================] - 0s 5ms/step - loss: 0.0548 - accuracy: 0.9726 - val_loss: 0.0537 - val_accuracy: 0.9732\n",
      "Epoch 19/4000\n",
      "26/26 [==============================] - 0s 5ms/step - loss: 0.0550 - accuracy: 0.9726 - val_loss: 0.0536 - val_accuracy: 0.9732\n",
      "Epoch 20/4000\n",
      "26/26 [==============================] - 0s 5ms/step - loss: 0.0548 - accuracy: 0.9726 - val_loss: 0.0536 - val_accuracy: 0.9732\n",
      "Epoch 21/4000\n",
      "26/26 [==============================] - 0s 5ms/step - loss: 0.0548 - accuracy: 0.9726 - val_loss: 0.0542 - val_accuracy: 0.9732\n",
      "Epoch 22/4000\n",
      "26/26 [==============================] - 0s 5ms/step - loss: 0.0547 - accuracy: 0.9726 - val_loss: 0.0542 - val_accuracy: 0.9732\n",
      "Epoch 23/4000\n",
      "26/26 [==============================] - 0s 6ms/step - loss: 0.0549 - accuracy: 0.9726 - val_loss: 0.0538 - val_accuracy: 0.9732\n",
      "Epoch 24/4000\n",
      "26/26 [==============================] - 0s 6ms/step - loss: 0.0547 - accuracy: 0.9726 - val_loss: 0.0534 - val_accuracy: 0.9732\n",
      "Epoch 25/4000\n",
      "26/26 [==============================] - 0s 6ms/step - loss: 0.0548 - accuracy: 0.9726 - val_loss: 0.0535 - val_accuracy: 0.9732\n",
      "Epoch 26/4000\n",
      "26/26 [==============================] - 0s 5ms/step - loss: 0.0549 - accuracy: 0.9726 - val_loss: 0.0536 - val_accuracy: 0.9732\n",
      "Epoch 27/4000\n",
      "26/26 [==============================] - 0s 5ms/step - loss: 0.0548 - accuracy: 0.9726 - val_loss: 0.0536 - val_accuracy: 0.9732\n",
      "Epoch 28/4000\n",
      "26/26 [==============================] - 0s 5ms/step - loss: 0.0548 - accuracy: 0.9726 - val_loss: 0.0535 - val_accuracy: 0.9732\n",
      "Epoch 29/4000\n",
      "26/26 [==============================] - 0s 5ms/step - loss: 0.0548 - accuracy: 0.9726 - val_loss: 0.0537 - val_accuracy: 0.9732\n",
      "Epoch 30/4000\n",
      "26/26 [==============================] - 0s 5ms/step - loss: 0.0547 - accuracy: 0.9726 - val_loss: 0.0534 - val_accuracy: 0.9732\n",
      "Epoch 31/4000\n",
      "26/26 [==============================] - 0s 5ms/step - loss: 0.0546 - accuracy: 0.9726 - val_loss: 0.0535 - val_accuracy: 0.9732\n",
      "Epoch 32/4000\n",
      "26/26 [==============================] - 0s 5ms/step - loss: 0.0546 - accuracy: 0.9726 - val_loss: 0.0534 - val_accuracy: 0.9732\n",
      "Epoch 33/4000\n",
      "26/26 [==============================] - 0s 5ms/step - loss: 0.0548 - accuracy: 0.9726 - val_loss: 0.0534 - val_accuracy: 0.9732\n",
      "Epoch 34/4000\n",
      "26/26 [==============================] - 0s 6ms/step - loss: 0.0548 - accuracy: 0.9726 - val_loss: 0.0536 - val_accuracy: 0.9732\n",
      "7/7 [==============================] - 0s 2ms/step\n",
      "              precision    recall  f1-score   support\n",
      "\n",
      "           0       0.98      0.99      0.99     19719\n",
      "           1       0.69      0.54      0.61       781\n",
      "\n",
      "    accuracy                           0.97     20500\n",
      "   macro avg       0.83      0.77      0.80     20500\n",
      "weighted avg       0.97      0.97      0.97     20500\n",
      "\n"
     ]
    }
   ],
   "source": [
    "def create_simple_cnn_model(input_shape, num_classes):\n",
    "    model = models.Sequential()\n",
    "    model.add(layers.Input(shape=input_shape))\n",
    "    model.add(layers.Conv1D(32, 3, activation='relu', padding='same'))\n",
    "    model.add(layers.MaxPooling1D(2))\n",
    "    model.add(layers.Conv1D(64, 3, activation='relu', padding='same'))\n",
    "    model.add(layers.MaxPooling1D(2))\n",
    "    model.add(layers.Flatten())\n",
    "    model.add(layers.Dense(128, activation='relu'))\n",
    "    model.add(layers.Dense(input_shape[0] * num_classes, activation='softmax'))\n",
    "    model.add(layers.Reshape((input_shape[0], num_classes)))  # 将输出重塑为 (sequence_length, num_classes)\n",
    "    return model\n",
    "\n",
    "# 创建和编译简单模型\n",
    "simple_model = create_simple_cnn_model(input_shape, num_classes)\n",
    "compile_model(simple_model)\n",
    "\n",
    "history = train_classification_model(simple_model, X_train, y_train, X_val, y_val)\n",
    "\n",
    "# 评估模型\n",
    "y_pred = simple_model.predict(X_val)\n",
    "y_pred_classes = np.argmax(y_pred, axis=-1)\n",
    "print(classification_report(y_val.flatten(), y_pred_classes.flatten(), zero_division=1))"
   ]
  },
  {
   "cell_type": "code",
   "execution_count": 14,
   "metadata": {},
   "outputs": [
    {
     "name": "stdout",
     "output_type": "stream",
     "text": [
      "a\n"
     ]
    }
   ],
   "source": [
    "print('a')"
   ]
  },
  {
   "cell_type": "code",
   "execution_count": null,
   "metadata": {},
   "outputs": [],
   "source": []
  }
 ],
 "metadata": {
  "kernelspec": {
   "display_name": "boyangenv",
   "language": "python",
   "name": "python3"
  },
  "language_info": {
   "codemirror_mode": {
    "name": "ipython",
    "version": 3
   },
   "file_extension": ".py",
   "mimetype": "text/x-python",
   "name": "python",
   "nbconvert_exporter": "python",
   "pygments_lexer": "ipython3",
   "version": "3.8.20"
  }
 },
 "nbformat": 4,
 "nbformat_minor": 4
}
