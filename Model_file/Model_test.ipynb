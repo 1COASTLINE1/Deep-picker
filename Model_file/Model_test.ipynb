{
 "cells": [
  {
   "cell_type": "code",
   "execution_count": 1,
   "metadata": {},
   "outputs": [],
   "source": [
    "#!pip install tensorflow"
   ]
  },
  {
   "cell_type": "code",
   "execution_count": 2,
   "metadata": {},
   "outputs": [],
   "source": [
    "#!pip install numpy scipy matplotlib scikit-learn"
   ]
  },
  {
   "cell_type": "code",
   "execution_count": 3,
   "metadata": {},
   "outputs": [],
   "source": [
    "#!pip install pandas"
   ]
  },
  {
   "cell_type": "code",
   "execution_count": null,
   "metadata": {},
   "outputs": [],
   "source": [
    "import tensorflow as tf\n",
    "\n",
    "# 检查 TensorFlow 版本\n",
    "print(\"TensorFlow version:\", tf.__version__)\n",
    "\n",
    "# 列出所有可用的物理设备\n",
    "print(\"Physical devices:\", tf.config.list_physical_devices())\n",
    "\n",
    "# 检查是否有可用的 GPU\n",
    "gpus = tf.config.list_physical_devices('GPU')\n",
    "if gpus:\n",
    "    print(\"Num GPUs Available: \", len(gpus))\n",
    "else:\n",
    "    print(\"No GPU found. TensorFlow is using CPU.\")"
   ]
  },
  {
   "cell_type": "code",
   "execution_count": 5,
   "metadata": {},
   "outputs": [],
   "source": [
    "## import package\n",
    "import tensorflow as tf\n",
    "from tensorflow import keras\n",
    "from tensorflow.keras import layers, models, optimizers\n",
    "import numpy as np\n",
    "from scipy.optimize import curve_fit\n",
    "import matplotlib.pyplot as plt\n",
    "from sklearn.model_selection import train_test_split\n",
    "from sklearn.preprocessing import StandardScaler\n",
    "from sklearn.metrics import classification_report, mean_squared_error\n",
    "import pandas as pd"
   ]
  },
  {
   "cell_type": "markdown",
   "metadata": {},
   "source": [
    "### Build up basic model\n"
   ]
  },
  {
   "cell_type": "code",
   "execution_count": 6,
   "metadata": {},
   "outputs": [],
   "source": [
    "def create_model(input_shape, num_classes):\n",
    "    inputs = tf.keras.layers.Input(shape=input_shape)\n",
    "\n",
    "    # Hidden Layers\n",
    "    filter_sizes = [40, 20, 10, 20, 10, 30, 18, 18]\n",
    "    kernel_sizes = [11, 1, 11, 1, 1, 11, 1, 3]\n",
    "    x = inputs\n",
    "    for filters, kernel_size in zip(filter_sizes, kernel_sizes):\n",
    "        x = tf.keras.layers.Conv1D(filters, kernel_size, activation='relu', padding='same')(x)\n",
    "\n",
    "    # Max Pooling Layer\n",
    "    x = tf.keras.layers.MaxPooling1D(3)(x)\n",
    "\n",
    "    # Flatten Layer\n",
    "    x = tf.keras.layers.Flatten()(x)\n",
    "\n",
    "    # Classification Layer\n",
    "    classification_output = tf.keras.layers.Dense(input_shape[0] * num_classes, activation='softmax')(x)\n",
    "    classification_output = tf.keras.layers.Reshape((input_shape[0], num_classes))(classification_output)\n",
    "    \n",
    "    # Regression Layer\n",
    "    reg_output = tf.keras.layers.Dense(input_shape[0] * 3)(x)\n",
    "    reg_output = tf.keras.layers.Reshape((input_shape[0], 3), name='reg_output')(reg_output)\n",
    "\n",
    "    # Model\n",
    "    model = tf.keras.models.Model(inputs=inputs, outputs=[classification_output, reg_output])\n",
    "\n",
    "    return model"
   ]
  },
  {
   "cell_type": "code",
   "execution_count": null,
   "metadata": {},
   "outputs": [],
   "source": [
    "\n",
    "input_shape = (100,1)  # 示例输入形状\n",
    "num_classes = 3  # 假设有3个类别\n",
    "\n",
    "# 创建模型\n",
    "model = create_model(input_shape, num_classes)\n",
    "print(model.output_shape)\n"
   ]
  },
  {
   "cell_type": "markdown",
   "metadata": {},
   "source": [
    "## Train the model"
   ]
  },
  {
   "cell_type": "code",
   "execution_count": 8,
   "metadata": {},
   "outputs": [],
   "source": [
    "def masked_mean_squared_error(y_true, y_pred):\n",
    "    # 创建一个掩码，只包含类别 1 或 2 的数据\n",
    "    mask = tf.cast(tf.math.greater(y_true, 0), dtype=tf.float32)\n",
    "    # 计算 MSE\n",
    "    mse = tf.keras.losses.mean_squared_error(y_true, y_pred)\n",
    "    # 扩展 mse 的维度以匹配 mask 的形状\n",
    "    mse = tf.expand_dims(mse, -1)\n",
    "    # 重复 mse 以匹配 mask 的形状\n",
    "    mse = tf.repeat(mse, 3, axis=-1)\n",
    "    # 应用掩码\n",
    "    masked_mse = mask * mse\n",
    "    # 返回掩码后的平均 MSE\n",
    "    return tf.reduce_mean(masked_mse)"
   ]
  },
  {
   "cell_type": "code",
   "execution_count": 9,
   "metadata": {},
   "outputs": [],
   "source": [
    "def compile_model(model):\n",
    "    # 使用Adam优化器，学习率为0.002\n",
    "    optimizer = optimizers.Adam(learning_rate=0.002)\n",
    "    \n",
    "    # 为每个输出指定一个损失函数\n",
    "    losses = {\n",
    "        'reshape_1': 'sparse_categorical_crossentropy',  # 分类任务使用交叉熵损失函数\n",
    "        'reg_output': masked_mean_squared_error  # 回归任务使用均方误差损失函数\n",
    "    }\n",
    "    \n",
    "    # 为每个输出指定一个评估指标\n",
    "    metrics = {\n",
    "        'reshape_1': 'accuracy',  # 分类任务使用准确率作为评估指标\n",
    "        'reg_output': tf.keras.metrics.MeanSquaredError()  # 回归任务使用均方误差作为评估指标\n",
    "    }\n",
    "    \n",
    "    # 编译模型\n",
    "    model.compile(optimizer=optimizer, loss=losses, metrics=metrics)"
   ]
  },
  {
   "cell_type": "code",
   "execution_count": 5,
   "metadata": {},
   "outputs": [],
   "source": [
    "import pandas as pd\n",
    "import numpy as np\n",
    "from tensorflow.keras.utils import to_categorical\n",
    "\n",
    "def load_data(filename):\n",
    "    # 读取 Excel 文件中的所有工作表名称\n",
    "    xls = pd.ExcelFile(filename)\n",
    "    sheet_names = xls.sheet_names\n",
    "    \n",
    "    # 初始化用于存储所有工作表数据的列表\n",
    "    X_data = []\n",
    "    classification_Y_data = []\n",
    "    regression_Y_data = []\n",
    "    \n",
    "    # 遍历每个工作表\n",
    "    for sheet_name in sheet_names:\n",
    "        df = pd.read_excel(xls, sheet_name=sheet_name)\n",
    "        \n",
    "        # 提取 X 列和 Y 列的数据\n",
    "        X = df['X'].to_numpy()\n",
    "        Y = df['Y'].to_numpy()\n",
    "        \n",
    "        # 提取 Area, Center, Sigma 列的数据，作为回归任务的目标\n",
    "        reg_target = df[['Area', 'Center', 'Sigma']].to_numpy().reshape(-1, 3)\n",
    "\n",
    "        # 将数据添加到列表中\n",
    "        X_data.append(X)\n",
    "        classification_Y_data.append(Y)\n",
    "        regression_Y_data.append(reg_target)\n",
    "    \n",
    "    # 转换为 NumPy 数组并重塑为 (num_samples, sequence_length, num_features)\n",
    "    X_data = np.array(X_data)\n",
    "    classification_Y_data = np.array(classification_Y_data)\n",
    "    regression_Y_data = np.array(regression_Y_data)\n",
    "\n",
    "    \n",
    "    return X_data, classification_Y_data, regression_Y_data"
   ]
  },
  {
   "cell_type": "code",
   "execution_count": 11,
   "metadata": {},
   "outputs": [],
   "source": [
    "from tensorflow.keras.callbacks import EarlyStopping\n",
    "def train_classification_model(model, X_train, y_train_classification, y_train_regression, X_val, y_val_classification, y_val_regression):\n",
    "    # 使用所有数据同时进行训练，batch_size设置为训练集大小\n",
    "    batch_size = len(X_train)\n",
    "    # 训练模型，训练4000个epoch\n",
    "\n",
    "    early_stopping = EarlyStopping(monitor='val_loss', patience=35, restore_best_weights=True)\n",
    "\n",
    "    history = model.fit(X_train, [y_train_classification, y_train_regression], \n",
    "                        epochs=4000, \n",
    "                        batch_size=batch_size, \n",
    "                        validation_data=(X_val, [y_val_classification, y_val_regression]),\n",
    "                        callbacks=[early_stopping])\n",
    "                       \n",
    "                        \n",
    "    return history\n",
    "    #"
   ]
  },
  {
   "cell_type": "code",
   "execution_count": 12,
   "metadata": {},
   "outputs": [],
   "source": [
    "from sklearn.metrics import classification_report, mean_squared_error, mean_absolute_error, r2_score\n",
    "\n",
    "\n",
    "def evaluate_model(model, X_val, y_val_classification, y_val_regression):\n",
    "    # 预测验证集\n",
    "    y_pred_classification, y_pred_regression = model.predict(X_val)\n",
    "    print(f'y_pred_classification shape: {y_pred_classification.shape}')\n",
    "    print(f'y_pred_regression shape: {y_pred_regression.shape}')\n",
    "    \n",
    "    # 将分类预测结果转换为整数标签\n",
    "    y_pred_classes = np.argmax(y_pred_classification, axis=-1)\n",
    "    \n",
    "    # 打印调试信息\n",
    "    print(\"Debugging Information:\")\n",
    "    print(f'y_val_classification shape: {y_val_classification.shape}, y_val_classification dtype: {y_val_classification.dtype}')\n",
    "    print(f'y_pred_classes shape: {y_pred_classes.shape}, y_pred_classes dtype: {y_pred_classes.dtype}')\n",
    "    \n",
    "    # 确保 y_val_classification 和 y_pred_classes 的形状一致\n",
    "    y_val_classes = y_val_classification\n",
    "    \n",
    "    # 展开为一维数组\n",
    "    y_val_classes_flat = y_val_classes.flatten()\n",
    "    y_pred_classes_flat = y_pred_classes.flatten()\n",
    "    \n",
    "    # 打印分类报告\n",
    "    print(\"Classification Report:\")\n",
    "    print(classification_report(y_val_classes_flat, y_pred_classes_flat))\n",
    "    \n",
    "    # 将分类报告转换为 DataFrame 并写入 CSV 文件\n",
    "    classification_report_dict = classification_report(y_val_classes_flat, y_pred_classes_flat, output_dict=True)\n",
    "    classification_df = pd.DataFrame(classification_report_dict).transpose()\n",
    "    classification_df.to_csv('classification_report.csv', index=True)\n",
    "    \n",
    "    # 回归评估\n",
    "    # 打印调试信息以检查形状\n",
    "    print(f'y_val_regression shape: {y_val_regression.shape}')\n",
    "    print(f'y_pred_regression shape: {y_pred_regression.shape}')\n",
    "    \n",
    "    # 确保 y_val_regression 和 y_pred_regression 的形状一致\n",
    "    y_val_regression_flat = y_val_regression.flatten()\n",
    "    y_pred_regression_flat = y_pred_regression.flatten()\n",
    "    \n",
    "    # 再次打印形状以确保一致性\n",
    "    print(f'y_val_regression_flat shape: {y_val_regression_flat.shape}')\n",
    "    print(f'y_pred_regression_flat shape: {y_pred_regression_flat.shape}')\n",
    "    \n",
    "    mse = mean_squared_error(y_val_regression_flat, y_pred_regression_flat)\n",
    "    mae = mean_absolute_error(y_val_regression_flat, y_pred_regression_flat)\n",
    "    r2 = r2_score(y_val_regression_flat, y_pred_regression_flat)\n",
    "    \n",
    "    print(\"Regression Evaluation:\")\n",
    "    print(f\"Mean Squared Error (MSE): {mse}\")\n",
    "    print(f\"Mean Absolute Error (MAE): {mae}\")\n",
    "    print(f\"R^2 Score: {r2}\")\n",
    "    \n",
    "    # 将回归评估结果写入 CSV 文件\n",
    "    regression_report = {\n",
    "        'Metric': ['Mean Squared Error (MSE)', 'Mean Absolute Error (MAE)', 'R^2 Score'],\n",
    "        'Value': [mse, mae, r2]\n",
    "    }\n",
    "    regression_df = pd.DataFrame(regression_report)\n",
    "    regression_df.to_csv('regression_report.csv', index=False)\n",
    "\n",
    "\n",
    "\n",
    "\n",
    "\n"
   ]
  },
  {
   "cell_type": "code",
   "execution_count": null,
   "metadata": {},
   "outputs": [],
   "source": [
    "strategy = tf.distribute.MirroredStrategy()\n",
    "\n",
    "with strategy.scope():\n",
    "# 设置输入形状和类别数量\n",
    "    input_shape = (100,1)  # 示例输入形状\n",
    "    num_classes = 3  # 假设有3个类别\n",
    "\n",
    "    # 创建模型\n",
    "    model = create_model(input_shape, num_classes)\n",
    "    model.summary()\n",
    "\n",
    "    # 编译模型\n",
    "    compile_model(model)\n",
    "\n",
    "# 加载和预处理数据\n",
    "# 从 train_data.xlsx 中加载数据\n",
    "X_train, y_train_classification, y_train_regression = load_data('train_data.xlsx')\n",
    "# 划分训练集和验证集\n",
    "X_train, X_val, y_train_classification, y_val_classification, y_train_regression, y_val_regression = train_test_split(X_train, y_train_classification, y_train_regression, test_size=0.2)\n",
    "\n",
    "# 从 test_data.xlsx 中加载数据（如果有相同的结构）\n",
    "X_test, y_test_classification, y_test_regression = load_data('test_data.xlsx')\n",
    "\n",
    "# 训练模型\n",
    "history = train_classification_model(model, X_train, y_train_classification, y_train_regression, X_val, y_val_classification, y_val_regression)\n",
    "\n",
    "# 评估模型\n",
    "evaluate_model(model, X_test, y_test_classification, y_test_regression)"
   ]
  },
  {
   "cell_type": "code",
   "execution_count": 8,
   "metadata": {},
   "outputs": [
    {
     "name": "stdout",
     "output_type": "stream",
     "text": [
      "X_data shape: (1024, 100)\n",
      "classification_Y_data shape: (1024, 100)\n",
      "regression_Y_data shape: (1024, 100, 3)\n"
     ]
    }
   ],
   "source": [
    "X_data, classification_Y_data, regression_Y_data  = load_data('train_data.xlsx')\n",
    "\n",
    "print(f'X_data shape: {X_data.shape}')\n",
    "print(f'classification_Y_data shape: {classification_Y_data.shape}')\n",
    "print(f'regression_Y_data shape: {regression_Y_data.shape}')"
   ]
  },
  {
   "cell_type": "code",
   "execution_count": null,
   "metadata": {},
   "outputs": [],
   "source": [
    "print(f'X_train shape: {X_train.shape}')\n",
    "print(f'y_train_classification shape: {y_train_classification.shape}')\n",
    "print(f'y_train_regression shape: {y_train_regression.shape}')\n",
    "print(f'X_val shape: {X_val.shape}')\n",
    "print(f'y_val_classification shape: {y_val_classification.shape}')\n",
    "print(f'y_val_regression shape: {y_val_regression.shape}')\n",
    "print(f'X_test shape: {X_test.shape}')\n",
    "print(f'y_test_classification shape: {y_test_classification.shape}')\n",
    "print(f'y_test_regression shape: {y_test_regression.shape}')"
   ]
  },
  {
   "cell_type": "code",
   "execution_count": null,
   "metadata": {},
   "outputs": [],
   "source": []
  }
 ],
 "metadata": {
  "kernelspec": {
   "display_name": "boyangenv",
   "language": "python",
   "name": "python3"
  },
  "language_info": {
   "codemirror_mode": {
    "name": "ipython",
    "version": 3
   },
   "file_extension": ".py",
   "mimetype": "text/x-python",
   "name": "python",
   "nbconvert_exporter": "python",
   "pygments_lexer": "ipython3",
   "version": "3.8.20"
  }
 },
 "nbformat": 4,
 "nbformat_minor": 4
}
