{
 "cells": [
  {
   "cell_type": "markdown",
   "metadata": {},
   "source": [
    "# This code is intended solely for testing purposes and is not to be used for any commercial activities."
   ]
  },
  {
   "cell_type": "code",
   "execution_count": 7,
   "metadata": {},
   "outputs": [],
   "source": [
    "import pandas as pd\n",
    "import numpy as np\n",
    "import matplotlib.pyplot as plt\n"
   ]
  },
  {
   "cell_type": "markdown",
   "metadata": {},
   "source": [
    "## 产生数据"
   ]
  },
  {
   "cell_type": "code",
   "execution_count": 12,
   "metadata": {},
   "outputs": [
    {
     "name": "stdout",
     "output_type": "stream",
     "text": [
      "X_data shape: (7776, 100)\n",
      "y_classification shape: (7776, 100)\n",
      "y_regression shape: (7776, 5)\n",
      "[ 0  0  5  5 60]\n"
     ]
    }
   ],
   "source": [
    "import numpy as np\n",
    "import itertools\n",
    "\n",
    "def gaussian(x, A, cen, sigma):\n",
    "    ln2 = np.log(2)\n",
    "    PI = np.pi\n",
    "    amplitude = A  # 振幅乘以浓度\n",
    "    return (amplitude * np.sqrt(4 * ln2) / (sigma * np.sqrt(PI))) * np.exp(-4 * ln2 * (x - cen)**2 / (sigma**2))\n",
    "\n",
    "\n",
    "\n",
    "def generate_data(centers, areas,sigma,noise_level,x_size=100):\n",
    "    X_data = []\n",
    "    y_classification = []\n",
    "    y_regression = []\n",
    "    \n",
    "    # 生成所有可能的area组合\n",
    "    area_combinations = list(itertools.product(areas, repeat=len(centers)))\n",
    "\n",
    "    for area_comb in area_combinations:\n",
    "        # 创建一个长度为x_size的全零数组作为基础的Ydata\n",
    "        y_base = np.zeros(x_size)\n",
    "        # 记录area作为回归任务的参数\n",
    "        y_reg = []\n",
    "        \n",
    "        # 创建一个长度为x_size的全零数组作为基础的Xdata\n",
    "        x_base = np.zeros(x_size)\n",
    "\n",
    "        # 对于每个center和对应的area\n",
    "        for center, area in zip(centers, area_comb):\n",
    "            # 如果area不为0，将center位置的Ydata值设为1\n",
    "            if area != 0:\n",
    "                if center - 1 < 0:\n",
    "                    y_base[center] = 1\n",
    "                else:\n",
    "                    y_base[center-1] = 1\n",
    "            y_reg.append(area)\n",
    "            \n",
    "            # 使用gaussian函数生成y值\n",
    "            y_gaussian = gaussian(np.arange(x_size), area, center, sigma) \n",
    "            y_gaussian += np.random.normal(0, noise_level, x_size)\n",
    "            # 将生成的y值加到x_base上\n",
    "            x_base += y_gaussian\n",
    "\n",
    "        # 将基础的Ydata添加到Ydata列表中\n",
    "        y_classification.append(y_base.tolist())\n",
    "        # 记录area作为回归任务的参数\n",
    "        y_regression.append(y_reg)\n",
    "\n",
    "        # X_data是一系列的索引值，从0到x_size-1\n",
    "        X_data.append(x_base.tolist())\n",
    "\n",
    "    return np.array(X_data), np.array(y_classification), np.array(y_regression)\n",
    "\n",
    "# 测试数据生成函数\n",
    "centers = [20,30,40,60,70]\n",
    "areas = [0,5,40,60,95,100]\n",
    "noise_level = 0.1\n",
    "sigma = 8\n",
    "X_data, y_classification, y_regression = generate_data(centers, areas, sigma,noise_level, x_size=100)\n",
    "print(f'X_data shape: {X_data.shape}')\n",
    "print(f'y_classification shape: {y_classification.shape}')\n",
    "print(f'y_regression shape: {y_regression.shape}')\n",
    "\n",
    "\n",
    "print(y_regression[45])"
   ]
  },
  {
   "cell_type": "code",
   "execution_count": 9,
   "metadata": {},
   "outputs": [
    {
     "data": {
      "text/plain": [
       "'\\n# 示例调用\\ncenters = [20,30,40,60,70]\\nareas = [0,30,60,100,0,0]\\nX_data, y_classification, y_regression = generate_data(centers, areas)\\n\\ntrain_x = [X_data[i] for i in range(X_data.shape[0])]\\ntrain_y = [[y_classification[i], y_regression[i]] for i in range(y_classification.shape[0])]\\n\\ncreate_training_set(train_x, train_y, file_name=\"train_data.xlsx\")\\n'"
      ]
     },
     "execution_count": 9,
     "metadata": {},
     "output_type": "execute_result"
    }
   ],
   "source": [
    "import pandas as pd\n",
    "import os\n",
    "import concurrent.futures\n",
    "\n",
    "def generate_data_frame(x, y):\n",
    "    # 将每个样本的数据转换为DataFrame\n",
    "    df_X = pd.DataFrame(x, columns=['X'])\n",
    "    df_y_classification = pd.DataFrame(y[0], columns=['y_classification'])\n",
    "    df_y_regression = pd.DataFrame(y[1], columns=['y_regression'])\n",
    "    \n",
    "    # 将数据写入一个新的Excel工作表\n",
    "    df = pd.concat([df_X, df_y_classification, df_y_regression], axis=1)\n",
    "    \n",
    "    return df\n",
    "\n",
    "def create_set(train_x, train_y, file_name=\"train_data.xlsx\"):\n",
    "    if os.path.exists(file_name):\n",
    "        os.remove(file_name)\n",
    "\n",
    "    with concurrent.futures.ThreadPoolExecutor() as executor:\n",
    "        # 生成所有需要写入的数据\n",
    "        data_to_write = list(executor.map(generate_data_frame, train_x, train_y))\n",
    "\n",
    "    with pd.ExcelWriter(file_name, engine='xlsxwriter') as writer:\n",
    "        for i, df in enumerate(data_to_write):\n",
    "            df.to_excel(writer, sheet_name=f'Sample_{i+1}', index=False)\n",
    "\n",
    "    print(f\"Data successfully exported to {file_name}\")\n",
    "\n",
    "\"\"\"\n",
    "# 示例调用\n",
    "centers = [20,30,40,60,70]\n",
    "areas = [0,30,60,100,0,0]\n",
    "X_data, y_classification, y_regression = generate_data(centers, areas)\n",
    "\n",
    "train_x = [X_data[i] for i in range(X_data.shape[0])]\n",
    "train_y = [[y_classification[i], y_regression[i]] for i in range(y_classification.shape[0])]\n",
    "\n",
    "create_training_set(train_x, train_y, file_name=\"train_data.xlsx\")\n",
    "\"\"\""
   ]
  },
  {
   "cell_type": "markdown",
   "metadata": {},
   "source": [
    "## 产生数据并存入excel"
   ]
  },
  {
   "cell_type": "markdown",
   "metadata": {},
   "source": [
    "##  Find user_scale and  create training and test set"
   ]
  },
  {
   "cell_type": "code",
   "execution_count": 10,
   "metadata": {},
   "outputs": [
    {
     "name": "stdout",
     "output_type": "stream",
     "text": [
      "Data successfully exported to train_data.xlsx\n",
      "Data successfully exported to test_data.xlsx\n"
     ]
    }
   ],
   "source": [
    "# Training set\n",
    "Training_area = [0,1,5,50,95,500,800]\n",
    "Training_center = [20,30,40,60,70]\n",
    "sigma =  8   # 固定e半高全宽\n",
    "noise_level = 1/300  # 噪声水平\n",
    "\n",
    "# Test set\n",
    "Test_area =  [0,2,30,60,750] \n",
    "Test_center = [20,30,40,60,70]  \n",
    "sigma = 8    # 固定半高全宽\n",
    "noise_level = 1/300  # 噪声水平\n",
    "\n",
    "\n",
    "# Training set\n",
    "X_data, y_classification, y_regression = generate_data(Training_center, Training_area,noise_level, sigma)\n",
    "train_x = [X_data[i] for i in range(X_data.shape[0])]\n",
    "train_y = [[y_classification[i], y_regression[i]] for i in range(y_classification.shape[0])]\n",
    "\n",
    "create_set(train_x, train_y, file_name=\"train_data.xlsx\")\n",
    "\n",
    "\n",
    "# Test set\n",
    "X_data, y_classification, y_regression = generate_data(Test_center, Test_area,noise_level, sigma)\n",
    "test_x = [X_data[i] for i in range(X_data.shape[0])]\n",
    "test_y = [[y_classification[i], y_regression[i]] for i in range(y_classification.shape[0])]\n",
    "create_set(test_x, test_y, file_name=\"test_data.xlsx\")\n"
   ]
  },
  {
   "cell_type": "code",
   "execution_count": null,
   "metadata": {},
   "outputs": [],
   "source": []
  }
 ],
 "metadata": {
  "kernelspec": {
   "display_name": "boyangenv",
   "language": "python",
   "name": "python3"
  },
  "language_info": {
   "codemirror_mode": {
    "name": "ipython",
    "version": 3
   },
   "file_extension": ".py",
   "mimetype": "text/x-python",
   "name": "python",
   "nbconvert_exporter": "python",
   "pygments_lexer": "ipython3",
   "version": "3.8.20"
  }
 },
 "nbformat": 4,
 "nbformat_minor": 4
}
